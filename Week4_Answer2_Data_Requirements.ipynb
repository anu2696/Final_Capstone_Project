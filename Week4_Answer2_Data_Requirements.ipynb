{
    "cells": [
        {
            "cell_type": "markdown",
            "metadata": {
                "collapsed": true
            },
            "source": "<h1>Opening a shopping Mall in Rome</h1>"
        },
        {
            "cell_type": "markdown",
            "metadata": {},
            "source": "<h2>Data Requirements</h2>"
        },
        {
            "cell_type": "markdown",
            "metadata": {},
            "source": "There are 3 following types of data which will be required:\n<li><b>List of neighborhoods of Rome</b>: This list can be found out from the link <a>https://en.wikipedia.org/wiki/Category:Subdivisions_of_Rome</a></li>\n<li><b>Latitude and Longitude</b>: Getting the latitude and longitude of Rome by using Geocoder python library package.</li>\n<li><b>Venues</b>: Venue data for neighborhood of Rome could be found out with the help of Foursquare API (www.foursquare.com)</li>"
        },
        {
            "cell_type": "code",
            "execution_count": null,
            "metadata": {},
            "outputs": [],
            "source": ""
        }
    ],
    "metadata": {
        "kernelspec": {
            "display_name": "Python 3.7",
            "language": "python",
            "name": "python3"
        },
        "language_info": {
            "codemirror_mode": {
                "name": "ipython",
                "version": 3
            },
            "file_extension": ".py",
            "mimetype": "text/x-python",
            "name": "python",
            "nbconvert_exporter": "python",
            "pygments_lexer": "ipython3",
            "version": "3.7.9"
        }
    },
    "nbformat": 4,
    "nbformat_minor": 1
}