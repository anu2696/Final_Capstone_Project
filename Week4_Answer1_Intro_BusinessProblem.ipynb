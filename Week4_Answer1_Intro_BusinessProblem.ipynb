{
    "cells": [
        {
            "cell_type": "markdown",
            "metadata": {
                "collapsed": true
            },
            "source": "<h1>Opening a Shopping Mall in Rome</h1>"
        },
        {
            "cell_type": "markdown",
            "metadata": {},
            "source": "<h2>Introduction</h2>"
        },
        {
            "cell_type": "markdown",
            "metadata": {},
            "source": "<ul>\n    <li><p>Shopping malls are the central attraction of cities nowadays. Malls are meant for shopping various stuffs and spend some time and relax and get refreshed.</p></li>\n    <li><p>Malls are very helpful because you can find almost everything in one building like clothing stores, electronic items, book stores, theatres etc. There is no need to go to various places and search for the things. </p></li>\n    <li><p>The location of the mall is the prime factor for planning to build a mall.</p></li>\n</ul>"
        },
        {
            "cell_type": "markdown",
            "metadata": {},
            "source": "<h2>Business Problem</h2>"
        },
        {
            "cell_type": "markdown",
            "metadata": {},
            "source": "<li>In this Capstone Project, the objective is to find which are the prime places or spots to build a new shopping mall in the city of Rome. We will take various factors into consideration. </li> \n<li>We will use the K-Means clustering algorithm to help and recommend the building developer that which place would be the best to open a shopping mall. </li>"
        },
        {
            "cell_type": "code",
            "execution_count": null,
            "metadata": {},
            "outputs": [],
            "source": ""
        }
    ],
    "metadata": {
        "kernelspec": {
            "display_name": "Python 3.7",
            "language": "python",
            "name": "python3"
        },
        "language_info": {
            "codemirror_mode": {
                "name": "ipython",
                "version": 3
            },
            "file_extension": ".py",
            "mimetype": "text/x-python",
            "name": "python",
            "nbconvert_exporter": "python",
            "pygments_lexer": "ipython3",
            "version": "3.7.9"
        }
    },
    "nbformat": 4,
    "nbformat_minor": 1
}